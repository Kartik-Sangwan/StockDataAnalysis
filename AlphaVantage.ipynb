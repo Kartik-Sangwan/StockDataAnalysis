{
 "cells": [
  {
   "cell_type": "code",
   "execution_count": null,
   "metadata": {},
   "outputs": [],
   "source": [
    "# ALPHA-VANTAGE REAL-TIME INTRADAY DATA API key: VON3789CVCLU910E\n",
    "# very useful library almost 1 week current data\n",
    "%matplotlib notebook\n",
    "from alpha_vantage.timeseries import TimeSeries\n",
    "import matplotlib.pyplot as plt\n",
    "\n",
    "API_KEY = 'VON3789CVCLU910E'\n",
    "ts = TimeSeries(key = API_KEY, output_format = 'pandas')\n",
    "data = ts.get_intraday(symbol = 'AAPL', interval = '1min', outputsize = 'full')[0]\n",
    "data.columns = ['open', 'high', 'low', 'close', 'volume']\n",
    "\n",
    "# charting the prices\n",
    "data['4. close'][1375:].plot()\n",
    "plt.title('Intraday Times Series for the AAPL stock (1 min)')\n",
    "plt.show()"
   ]
  }
 ],
 "metadata": {
  "kernelspec": {
   "display_name": "Python 3",
   "language": "python",
   "name": "python3"
  },
  "language_info": {
   "codemirror_mode": {
    "name": "ipython",
    "version": 3
   },
   "file_extension": ".py",
   "mimetype": "text/x-python",
   "name": "python",
   "nbconvert_exporter": "python",
   "pygments_lexer": "ipython3",
   "version": "3.6.8"
  }
 },
 "nbformat": 4,
 "nbformat_minor": 2
}
