{
 "cells": [
  {
   "cell_type": "code",
   "execution_count": null,
   "metadata": {},
   "outputs": [],
   "source": [
    "from yahoofinancials import YahooFinancials\n",
    "import pandas as pd\n",
    "import datetime as dt\n",
    "import pandas_datareader.data as pdr\n",
    "\n",
    "tickers = ['AAPL', 'AMZN', 'TSLA', 'CSCO', 'NFLX', 'MSFT']\n",
    "\n",
    "close_prices = pd.DataFrame()\n",
    "end_date = (dt.date.today()).strftime('%Y-%m-%d')\n",
    "beg_date = (dt.date.today() - dt.timedelta(365)).strftime('%Y-%m-%d')\n",
    "\n",
    "temp_tickers = tickers\n",
    "attempts = 0\n",
    "successful_tickers = []\n",
    "# loading the data for the stocks using Yahoo financials for deep ananlysis.\n",
    "while len(temp_tickers) != 0 and attempts < 5:\n",
    "    temp_tickers = [j for j in tickers if j not in successful_tickers]\n",
    "    for i in range(len(temp_tickers)):\n",
    "        try:\n",
    "            yahoo_financials = YahooFinancials(temp_tickers[i])\n",
    "            historical_stock_prices_json = yahoo_financials.get_historical_price_data(beg_date, end_date, 'daily')\n",
    "            ohlv = historical_stock_prices_json[temp_tickers[i]]['prices']\n",
    "            temp = pd.DataFrame(ohlv)[['formatted_date', 'adjclose']]\n",
    "            temp.set_index('formatted_date', inplace = True)\n",
    "            temp2 = temp[~temp.index.duplicated(keep = 'first')]\n",
    "            close_prices[temp_tickers[i]] = temp2['adjclose']\n",
    "            successful_tickers.append(tickers[i])\n",
    "        except:\n",
    "            print(temp_tickers[i], 'Failed to fetch data.... retrying.')\n",
    "            continue\n",
    "    attempts += 1"
   ]
  }
 ],
 "metadata": {
  "kernelspec": {
   "display_name": "Python 3",
   "language": "python",
   "name": "python3"
  },
  "language_info": {
   "codemirror_mode": {
    "name": "ipython",
    "version": 3
   },
   "file_extension": ".py",
   "mimetype": "text/x-python",
   "name": "python",
   "nbconvert_exporter": "python",
   "pygments_lexer": "ipython3",
   "version": "3.6.8"
  }
 },
 "nbformat": 4,
 "nbformat_minor": 2
}
