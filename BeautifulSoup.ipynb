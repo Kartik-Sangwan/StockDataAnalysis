{
 "cells": [
  {
   "cell_type": "code",
   "execution_count": null,
   "metadata": {},
   "outputs": [],
   "source": [
    "# Web Scraping\n",
    "\n",
    "import requests\n",
    "import urllib3\n",
    "from bs4 import BeautifulSoup\n",
    "urllib3.disable_warnings(urllib3.exceptions.InsecureRequestWarning)\n",
    "\n",
    "quote_page = 'https://finance.yahoo.com/quote/MSFT/balance-sheet?p=MSFT'\n",
    "page = requests.get(quote_page)\n",
    "page_content = page.content\n",
    "soup = BeautifulSoup(page_content, 'html.parser')\n",
    "table = soup.find_all('table', {'class': 'Lh(1.7) W(100%) M(0)'})\n",
    "\n",
    "for t in table:\n",
    "    rows = t.find_all('tr')\n",
    "    for row in rows:\n",
    "        sum = 1\n",
    "        #print(row.get_text())"
   ]
  }
 ],
 "metadata": {
  "kernelspec": {
   "display_name": "Python 3",
   "language": "python",
   "name": "python3"
  },
  "language_info": {
   "codemirror_mode": {
    "name": "ipython",
    "version": 3
   },
   "file_extension": ".py",
   "mimetype": "text/x-python",
   "name": "python",
   "nbconvert_exporter": "python",
   "pygments_lexer": "ipython3",
   "version": "3.6.8"
  }
 },
 "nbformat": 4,
 "nbformat_minor": 2
}
