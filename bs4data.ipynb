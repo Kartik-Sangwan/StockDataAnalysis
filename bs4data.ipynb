{
 "cells": [
  {
   "cell_type": "code",
   "execution_count": null,
   "metadata": {},
   "outputs": [],
   "source": [
    "import requests\n",
    "from bs4 import BeautifulSoup\n",
    "import pandas as pd\n",
    "\n",
    "tickers = ['AAPL', 'MSFT']\n",
    "financial_dic = {}\n",
    "\n",
    "for ticker in tickers:\n",
    "    temp_dic = {}\n",
    "    url = 'https://finance.yahoo.com/quote/' + ticker + '/balance-sheet?p=' + ticker\n",
    "    page = requests.get(url)\n",
    "    page_content = page.content\n",
    "    soup = BeautifulSoup(page_content, 'html.parser')\n",
    "    table = soup.find_all('table', {'class': 'Lh(1.7) W(100%) M(0)'})\n",
    "    for t in table:\n",
    "        rows = t.find_all('tr')\n",
    "        for row in rows:\n",
    "            if len(row.get_text(separator = '|').split('|')[:2]) > 1:\n",
    "                temp_dic[row.get_text(separator = '|').split('|')[0]] = row.get_text(separator = '|').split('|')[1]\n",
    "    \n",
    "    # similarly for the other two urls\n",
    "    \n",
    "    url = 'https://finance.yahoo.com/quote/' + ticker + '/financials?p=' + ticker\n",
    "    page = requests.get(url)\n",
    "    page_content = page.content\n",
    "    soup = BeautifulSoup(page_content, 'html.parser')\n",
    "    table = soup.find_all('table', {'class': 'Lh(1.7) W(100%) M(0)'})\n",
    "    for t in table:\n",
    "        rows = t.find_all('tr')\n",
    "        for row in rows:\n",
    "            if len(row.get_text(separator = '|').split('|')[:2]) > 1:\n",
    "                temp_dic[row.get_text(separator = '|').split('|')[0]] = row.get_text(separator = '|').split('|')[1]\n",
    "    \n",
    "    url = 'https://finance.yahoo.com/quote/' + ticker + '/key-statistics?p=' + ticker\n",
    "    page = requests.get(url)\n",
    "    page_content = page.content\n",
    "    soup = BeautifulSoup(page_content, 'html.parser')\n",
    "    table = soup.find_all('table', {'class': 'table-qsp-stats Mt(10px)'})\n",
    "    for t in table:\n",
    "        rows = t.find_all('tr')\n",
    "        for row in rows:\n",
    "            if len(row.get_text(separator = '|').split('|')[:2]) > 1:\n",
    "                temp_dic[row.get_text(separator = '|').split('|')[0]] = row.get_text(separator = '|').split('|')[-1]\n",
    "    \n",
    "    financial_dic[ticker] = temp_dic\n",
    "    combined_financials = pd.DataFrame(financial_dic)\n",
    "    combined_financials.dropna(axis = 1, inplace = True)\n",
    "    tickeres = combined_financials.columns\n",
    "    \n",
    "    # WOOOOOW !!!!!!!!\n",
    "\n"
   ]
  }
 ],
 "metadata": {
  "kernelspec": {
   "display_name": "Python 3",
   "language": "python",
   "name": "python3"
  },
  "language_info": {
   "codemirror_mode": {
    "name": "ipython",
    "version": 3
   },
   "file_extension": ".py",
   "mimetype": "text/x-python",
   "name": "python",
   "nbconvert_exporter": "python",
   "pygments_lexer": "ipython3",
   "version": "3.6.8"
  }
 },
 "nbformat": 4,
 "nbformat_minor": 2
}
